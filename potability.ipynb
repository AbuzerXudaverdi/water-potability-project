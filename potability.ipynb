{
  "cells": [
    {
      "cell_type": "markdown",
      "metadata": {
        "id": "view-in-github",
        "colab_type": "text"
      },
      "source": [
        "<a href=\"https://colab.research.google.com/github/AbuzerXudaverdi/water-potability-project/blob/main/potability.ipynb\" target=\"_parent\"><img src=\"https://colab.research.google.com/assets/colab-badge.svg\" alt=\"Open In Colab\"/></a>"
      ]
    },
    {
      "cell_type": "code",
      "execution_count": null,
      "metadata": {
        "id": "vBJeAaVEMgU6"
      },
      "outputs": [],
      "source": [
        "#from google.colab import files\n",
        "#uploaded = files.upload()\n",
        "import pandas as pd\n",
        "from sklearn.linear_model import LinearRegression\n",
        "from sklearn.model_selection import train_test_split\n",
        "import io\n",
        "url = 'https://raw.githubusercontent.com/AbuzerXudaverdi/water-potability-project/main/water_potability.csv'\n",
        "df = pd.read_csv(url)"
      ]
    },
    {
      "cell_type": "code",
      "execution_count": null,
      "metadata": {
        "id": "lXUQq17cKad3",
        "colab": {
          "base_uri": "https://localhost:8080/"
        },
        "outputId": "7c4802ed-4696-4d3f-ca50-571e4ef51f73"
      },
      "outputs": [
        {
          "output_type": "stream",
          "name": "stdout",
          "text": [
            "<bound method NDFrame.head of             ph    Hardness        Solids  Chloramines     Sulfate  \\\n",
            "0          NaN  204.890455  20791.318981     7.300212  368.516441   \n",
            "1     3.716080  129.422921  18630.057858     6.635246         NaN   \n",
            "2     8.099124  224.236259  19909.541732     9.275884         NaN   \n",
            "3     8.316766  214.373394  22018.417441     8.059332  356.886136   \n",
            "4     9.092223  181.101509  17978.986339     6.546600  310.135738   \n",
            "...        ...         ...           ...          ...         ...   \n",
            "3271  4.668102  193.681735  47580.991603     7.166639  359.948574   \n",
            "3272  7.808856  193.553212  17329.802160     8.061362         NaN   \n",
            "3273  9.419510  175.762646  33155.578218     7.350233         NaN   \n",
            "3274  5.126763  230.603758  11983.869376     6.303357         NaN   \n",
            "3275  7.874671  195.102299  17404.177061     7.509306         NaN   \n",
            "\n",
            "      Conductivity  Organic_carbon  Trihalomethanes  Turbidity  Potability  \n",
            "0       564.308654       10.379783        86.990970   2.963135           0  \n",
            "1       592.885359       15.180013        56.329076   4.500656           0  \n",
            "2       418.606213       16.868637        66.420093   3.055934           0  \n",
            "3       363.266516       18.436524       100.341674   4.628771           0  \n",
            "4       398.410813       11.558279        31.997993   4.075075           0  \n",
            "...            ...             ...              ...        ...         ...  \n",
            "3271    526.424171       13.894419        66.687695   4.435821           1  \n",
            "3272    392.449580       19.903225              NaN   2.798243           1  \n",
            "3273    432.044783       11.039070        69.845400   3.298875           1  \n",
            "3274    402.883113       11.168946        77.488213   4.708658           1  \n",
            "3275    327.459760       16.140368        78.698446   2.309149           1  \n",
            "\n",
            "[3276 rows x 10 columns]>\n"
          ]
        }
      ],
      "source": [
        "#import pandas as pd\n",
        "#import io\n",
        "#df = pd.read_csv(io.BytesIO(uploaded['water_potability.csv']))\n",
        "from sklearn.metrics import mean_squared_error\n",
        "from sklearn.neighbors import KNeighborsClassifier\n",
        "from sklearn.model_selection import KFold\n",
        "from sklearn.metrics import plot_confusion_matrix\n",
        "import numpy as np\n",
        "print(df.head)"
      ]
    },
    {
      "cell_type": "code",
      "execution_count": null,
      "metadata": {
        "colab": {
          "base_uri": "https://localhost:8080/"
        },
        "id": "IXnfkv-pM-cl",
        "outputId": "2ab574da-3393-4ef8-af75-5d3aa6a6a383"
      },
      "outputs": [
        {
          "output_type": "stream",
          "name": "stdout",
          "text": [
            "Null values of 'Sulfate' column: 781\n",
            "Null values of 'Turbidity' column: 0\n",
            "Null values of 'Trihalomethanes' column: 162\n",
            "Null values of 'pH' column: 491\n",
            "Null values of 'Conductivity' column: 0\n",
            "Null values of 'Organic_carbon' column: 0\n",
            "Null values of 'Potability' column: 0\n",
            "Null values of 'Hardness' column: 0\n",
            "Null values of 'Solids' column: 0\n",
            "Null values of 'Chloramines' column: 0\n",
            "0.23840048840048841 3276\n"
          ]
        }
      ],
      "source": [
        "#print(mat.keys())\n",
        "#print(len(mat['features'][1]))\n",
        "#print(mat['features'])\n",
        "cols = []\n",
        "for col in df.columns:\n",
        "  if col == 'Potability':\n",
        "    cols.append(col)\n",
        "\n",
        "print(\"Null values of 'Sulfate' column:\",sum(pd.isnull(df['Sulfate'])))\n",
        "print(\"Null values of 'Turbidity' column:\", sum(pd.isnull(df['Turbidity'])))\n",
        "print(\"Null values of 'Trihalomethanes' column:\", sum(pd.isnull(df['Trihalomethanes'])))\n",
        "print(\"Null values of 'pH' column:\", sum(pd.isnull(df['ph'])))\n",
        "print(\"Null values of 'Conductivity' column:\", sum(pd.isnull(df['Conductivity'])))\n",
        "print(\"Null values of 'Organic_carbon' column:\", sum(pd.isnull(df['Organic_carbon'])))\n",
        "print(\"Null values of 'Potability' column:\", sum(pd.isnull(df['Potability'])))\n",
        "print(\"Null values of 'Hardness' column:\", sum(pd.isnull(df['Hardness'])))\n",
        "print(\"Null values of 'Solids' column:\", sum(pd.isnull(df['Solids'])))\n",
        "print(\"Null values of 'Chloramines' column:\", sum(pd.isnull(df['Chloramines'])))\n",
        "x = sum(pd.isnull(df['Sulfate']))/len(df['Sulfate'])\n",
        "y = len(df['Sulfate'])\n",
        "print (x, y)"
      ]
    },
    {
      "cell_type": "code",
      "source": [
        "df2 = df.dropna(subset = ['ph','Sulfate', 'Trihalomethanes'])\n",
        "# best feature set is 'Sulfate','Turbidity','Trihalomethanes','ph', 'Conductivity','Chloramines'\n",
        "X = df2[['Sulfate','Turbidity','Trihalomethanes','ph', 'Conductivity','Chloramines']].copy()\n",
        "#X = df2[[cols]]\n",
        "y = df2[['Potability']].copy()"
      ],
      "metadata": {
        "id": "KrY939Mibrg0"
      },
      "execution_count": null,
      "outputs": []
    },
    {
      "cell_type": "markdown",
      "source": [
        "X = df[['Chloramines','Solids','Turbidity']].copy()\n",
        "\n",
        "y = df['Potability'].copy()\n",
        "x_train, x_test, y_train, y_test = train_test_split(X,y, test_size = 0.2, random_state = 0)\n",
        "model = LinearRegression()\n",
        "model.fit(x_train,y_train)\n",
        "preds = model.predict(x_test)\n",
        "mse = mean_squared_error(y_test,preds)\n",
        "print(mse) ---> 0.23420358208983516, 0.23409812743606703\n"
      ],
      "metadata": {
        "id": "FvQL8sfvH3lF"
      }
    },
    {
      "cell_type": "code",
      "source": [
        "\n",
        "#best test size is probably 0.14 for this case\n",
        "x_train, x_test, y_train, y_test = train_test_split(X,y, test_size = 0.14, random_state = 0)\n",
        "model = KNeighborsClassifier(n_neighbors=50)\n",
        "model.fit(x_train,y_train.values.ravel())\n",
        "preds = model.predict(x_test)  # nump.ndarry\n",
        "print(preds.shape, y_test.shape)\n",
        "preds = preds.reshape(282,1)\n",
        "print(y_test.head())\n",
        "print(preds.shape, y_test.shape)\n",
        "#print(preds.head())\n",
        "x = np.array(preds)\n",
        "yy = np.array(y_test)\n",
        "#print(yy)\n",
        "#print(x.astype)\n",
        "np_y = y_test.to_numpy()\n",
        "#print(np_y)\n",
        "acc = np.sum(x==yy)/len(yy)\n",
        "print(acc)\n",
        "#acc = np.sum(preds==np_y)/len(np_y.values)\n",
        "##print(acc)"
      ],
      "metadata": {
        "colab": {
          "base_uri": "https://localhost:8080/"
        },
        "id": "dl48x049Frsr",
        "outputId": "5757ca4e-0d60-4cbc-c3c1-8edf59a9b297"
      },
      "execution_count": null,
      "outputs": [
        {
          "output_type": "stream",
          "name": "stdout",
          "text": [
            "(282,) (282, 1)\n",
            "      Potability\n",
            "367            1\n",
            "1985           1\n",
            "2962           0\n",
            "710            1\n",
            "1344           0\n",
            "(282, 1) (282, 1)\n",
            "0.6524822695035462\n"
          ]
        }
      ]
    },
    {
      "cell_type": "code",
      "source": [
        "from sklearn.model_selection import KFold\n",
        "x_training, x_testing, y_training, y_train = train_test_split(X,y, test_size = 0.14, random_state = 0)\n",
        "kf = KFold(n_splits=10,shuffle=False)\n",
        "# List to store the n_neighbors value as you iterate through the range n_range\n",
        "neighbor_vals = []\n",
        "temp = []\n",
        "n_range = [int(5),int(50)]\n",
        "# List to store the mean accuracy for each n_neighbors value\n",
        "results = []\n",
        "# Iterate through the n_neighbors values and perform cross-validation\n",
        "# Calculate the mean validation fold accuracy for each across all validation folds\n",
        "for n in n_range:\n",
        "  neighbor_vals.append(n)\n",
        "  knn_model = KNeighborsClassifier(n_neighbors=n)\n",
        "  for train, validate in kf.split(x_training,y=y_training):\n",
        "    knn_model.fit(x_training[train], y_training[train])\n",
        "    preds = knn_model.predict(X[validate])\n",
        "    acc = np.sum(preds==y[validate])/len(y[validate])\n",
        "    #acc = calc_accuracy(preds, y[validate])\n",
        "    temp.append(acc)\n",
        "  x= sum(temp)/len(temp)\n",
        "  temp.clear()\n",
        "  results.append(x)\n",
        "  i = np.argmax(results)\n",
        "  nn = neighbor_vals[i]\n",
        "  #return nn\n",
        "model = KNeighborsClassifier(n_neighbors=nn)\n",
        "\n"
      ],
      "metadata": {
        "id": "TdcK6D9BbXVx",
        "outputId": "f7c4213c-6727-4951-d7a7-8c44b0271fb6",
        "colab": {
          "base_uri": "https://localhost:8080/",
          "height": 397
        }
      },
      "execution_count": null,
      "outputs": [
        {
          "output_type": "error",
          "ename": "KeyError",
          "evalue": "ignored",
          "traceback": [
            "\u001b[0;31m---------------------------------------------------------------------------\u001b[0m",
            "\u001b[0;31mKeyError\u001b[0m                                  Traceback (most recent call last)",
            "\u001b[0;32m<ipython-input-67-31de0437fd8d>\u001b[0m in \u001b[0;36m<module>\u001b[0;34m\u001b[0m\n\u001b[1;32m     14\u001b[0m   \u001b[0mknn_model\u001b[0m \u001b[0;34m=\u001b[0m \u001b[0mKNeighborsClassifier\u001b[0m\u001b[0;34m(\u001b[0m\u001b[0mn_neighbors\u001b[0m\u001b[0;34m=\u001b[0m\u001b[0mn\u001b[0m\u001b[0;34m)\u001b[0m\u001b[0;34m\u001b[0m\u001b[0;34m\u001b[0m\u001b[0m\n\u001b[1;32m     15\u001b[0m   \u001b[0;32mfor\u001b[0m \u001b[0mtrain\u001b[0m\u001b[0;34m,\u001b[0m \u001b[0mvalidate\u001b[0m \u001b[0;32min\u001b[0m \u001b[0mkf\u001b[0m\u001b[0;34m.\u001b[0m\u001b[0msplit\u001b[0m\u001b[0;34m(\u001b[0m\u001b[0mx_training\u001b[0m\u001b[0;34m,\u001b[0m\u001b[0my\u001b[0m\u001b[0;34m=\u001b[0m\u001b[0my_training\u001b[0m\u001b[0;34m)\u001b[0m\u001b[0;34m:\u001b[0m\u001b[0;34m\u001b[0m\u001b[0;34m\u001b[0m\u001b[0m\n\u001b[0;32m---> 16\u001b[0;31m     \u001b[0mknn_model\u001b[0m\u001b[0;34m.\u001b[0m\u001b[0mfit\u001b[0m\u001b[0;34m(\u001b[0m\u001b[0mx_training\u001b[0m\u001b[0;34m[\u001b[0m\u001b[0mtrain\u001b[0m\u001b[0;34m]\u001b[0m\u001b[0;34m,\u001b[0m \u001b[0my_training\u001b[0m\u001b[0;34m[\u001b[0m\u001b[0mtrain\u001b[0m\u001b[0;34m]\u001b[0m\u001b[0;34m)\u001b[0m\u001b[0;34m\u001b[0m\u001b[0;34m\u001b[0m\u001b[0m\n\u001b[0m\u001b[1;32m     17\u001b[0m     \u001b[0mpreds\u001b[0m \u001b[0;34m=\u001b[0m \u001b[0mknn_model\u001b[0m\u001b[0;34m.\u001b[0m\u001b[0mpredict\u001b[0m\u001b[0;34m(\u001b[0m\u001b[0mX\u001b[0m\u001b[0;34m[\u001b[0m\u001b[0mvalidate\u001b[0m\u001b[0;34m]\u001b[0m\u001b[0;34m)\u001b[0m\u001b[0;34m\u001b[0m\u001b[0;34m\u001b[0m\u001b[0m\n\u001b[1;32m     18\u001b[0m     \u001b[0macc\u001b[0m \u001b[0;34m=\u001b[0m \u001b[0mnp\u001b[0m\u001b[0;34m.\u001b[0m\u001b[0msum\u001b[0m\u001b[0;34m(\u001b[0m\u001b[0mpreds\u001b[0m\u001b[0;34m==\u001b[0m\u001b[0my\u001b[0m\u001b[0;34m[\u001b[0m\u001b[0mvalidate\u001b[0m\u001b[0;34m]\u001b[0m\u001b[0;34m)\u001b[0m\u001b[0;34m/\u001b[0m\u001b[0mlen\u001b[0m\u001b[0;34m(\u001b[0m\u001b[0my\u001b[0m\u001b[0;34m[\u001b[0m\u001b[0mvalidate\u001b[0m\u001b[0;34m]\u001b[0m\u001b[0;34m)\u001b[0m\u001b[0;34m\u001b[0m\u001b[0;34m\u001b[0m\u001b[0m\n",
            "\u001b[0;32m/usr/local/lib/python3.7/dist-packages/pandas/core/frame.py\u001b[0m in \u001b[0;36m__getitem__\u001b[0;34m(self, key)\u001b[0m\n\u001b[1;32m   3462\u001b[0m             \u001b[0;32mif\u001b[0m \u001b[0mis_iterator\u001b[0m\u001b[0;34m(\u001b[0m\u001b[0mkey\u001b[0m\u001b[0;34m)\u001b[0m\u001b[0;34m:\u001b[0m\u001b[0;34m\u001b[0m\u001b[0;34m\u001b[0m\u001b[0m\n\u001b[1;32m   3463\u001b[0m                 \u001b[0mkey\u001b[0m \u001b[0;34m=\u001b[0m \u001b[0mlist\u001b[0m\u001b[0;34m(\u001b[0m\u001b[0mkey\u001b[0m\u001b[0;34m)\u001b[0m\u001b[0;34m\u001b[0m\u001b[0;34m\u001b[0m\u001b[0m\n\u001b[0;32m-> 3464\u001b[0;31m             \u001b[0mindexer\u001b[0m \u001b[0;34m=\u001b[0m \u001b[0mself\u001b[0m\u001b[0;34m.\u001b[0m\u001b[0mloc\u001b[0m\u001b[0;34m.\u001b[0m\u001b[0m_get_listlike_indexer\u001b[0m\u001b[0;34m(\u001b[0m\u001b[0mkey\u001b[0m\u001b[0;34m,\u001b[0m \u001b[0maxis\u001b[0m\u001b[0;34m=\u001b[0m\u001b[0;36m1\u001b[0m\u001b[0;34m)\u001b[0m\u001b[0;34m[\u001b[0m\u001b[0;36m1\u001b[0m\u001b[0;34m]\u001b[0m\u001b[0;34m\u001b[0m\u001b[0;34m\u001b[0m\u001b[0m\n\u001b[0m\u001b[1;32m   3465\u001b[0m \u001b[0;34m\u001b[0m\u001b[0m\n\u001b[1;32m   3466\u001b[0m         \u001b[0;31m# take() does not accept boolean indexers\u001b[0m\u001b[0;34m\u001b[0m\u001b[0;34m\u001b[0m\u001b[0;34m\u001b[0m\u001b[0m\n",
            "\u001b[0;32m/usr/local/lib/python3.7/dist-packages/pandas/core/indexing.py\u001b[0m in \u001b[0;36m_get_listlike_indexer\u001b[0;34m(self, key, axis)\u001b[0m\n\u001b[1;32m   1312\u001b[0m             \u001b[0mkeyarr\u001b[0m\u001b[0;34m,\u001b[0m \u001b[0mindexer\u001b[0m\u001b[0;34m,\u001b[0m \u001b[0mnew_indexer\u001b[0m \u001b[0;34m=\u001b[0m \u001b[0max\u001b[0m\u001b[0;34m.\u001b[0m\u001b[0m_reindex_non_unique\u001b[0m\u001b[0;34m(\u001b[0m\u001b[0mkeyarr\u001b[0m\u001b[0;34m)\u001b[0m\u001b[0;34m\u001b[0m\u001b[0;34m\u001b[0m\u001b[0m\n\u001b[1;32m   1313\u001b[0m \u001b[0;34m\u001b[0m\u001b[0m\n\u001b[0;32m-> 1314\u001b[0;31m         \u001b[0mself\u001b[0m\u001b[0;34m.\u001b[0m\u001b[0m_validate_read_indexer\u001b[0m\u001b[0;34m(\u001b[0m\u001b[0mkeyarr\u001b[0m\u001b[0;34m,\u001b[0m \u001b[0mindexer\u001b[0m\u001b[0;34m,\u001b[0m \u001b[0maxis\u001b[0m\u001b[0;34m)\u001b[0m\u001b[0;34m\u001b[0m\u001b[0;34m\u001b[0m\u001b[0m\n\u001b[0m\u001b[1;32m   1315\u001b[0m \u001b[0;34m\u001b[0m\u001b[0m\n\u001b[1;32m   1316\u001b[0m         if needs_i8_conversion(ax.dtype) or isinstance(\n",
            "\u001b[0;32m/usr/local/lib/python3.7/dist-packages/pandas/core/indexing.py\u001b[0m in \u001b[0;36m_validate_read_indexer\u001b[0;34m(self, key, indexer, axis)\u001b[0m\n\u001b[1;32m   1372\u001b[0m                 \u001b[0;32mif\u001b[0m \u001b[0muse_interval_msg\u001b[0m\u001b[0;34m:\u001b[0m\u001b[0;34m\u001b[0m\u001b[0;34m\u001b[0m\u001b[0m\n\u001b[1;32m   1373\u001b[0m                     \u001b[0mkey\u001b[0m \u001b[0;34m=\u001b[0m \u001b[0mlist\u001b[0m\u001b[0;34m(\u001b[0m\u001b[0mkey\u001b[0m\u001b[0;34m)\u001b[0m\u001b[0;34m\u001b[0m\u001b[0;34m\u001b[0m\u001b[0m\n\u001b[0;32m-> 1374\u001b[0;31m                 \u001b[0;32mraise\u001b[0m \u001b[0mKeyError\u001b[0m\u001b[0;34m(\u001b[0m\u001b[0;34mf\"None of [{key}] are in the [{axis_name}]\"\u001b[0m\u001b[0;34m)\u001b[0m\u001b[0;34m\u001b[0m\u001b[0;34m\u001b[0m\u001b[0m\n\u001b[0m\u001b[1;32m   1375\u001b[0m \u001b[0;34m\u001b[0m\u001b[0m\n\u001b[1;32m   1376\u001b[0m             \u001b[0mnot_found\u001b[0m \u001b[0;34m=\u001b[0m \u001b[0mlist\u001b[0m\u001b[0;34m(\u001b[0m\u001b[0mensure_index\u001b[0m\u001b[0;34m(\u001b[0m\u001b[0mkey\u001b[0m\u001b[0;34m)\u001b[0m\u001b[0;34m[\u001b[0m\u001b[0mmissing_mask\u001b[0m\u001b[0;34m.\u001b[0m\u001b[0mnonzero\u001b[0m\u001b[0;34m(\u001b[0m\u001b[0;34m)\u001b[0m\u001b[0;34m[\u001b[0m\u001b[0;36m0\u001b[0m\u001b[0;34m]\u001b[0m\u001b[0;34m]\u001b[0m\u001b[0;34m.\u001b[0m\u001b[0munique\u001b[0m\u001b[0;34m(\u001b[0m\u001b[0;34m)\u001b[0m\u001b[0;34m)\u001b[0m\u001b[0;34m\u001b[0m\u001b[0;34m\u001b[0m\u001b[0m\n",
            "\u001b[0;31mKeyError\u001b[0m: \"None of [Int64Index([ 173,  174,  175,  176,  177,  178,  179,  180,  181,  182,\\n            ...\\n            1719, 1720, 1721, 1722, 1723, 1724, 1725, 1726, 1727, 1728],\\n           dtype='int64', length=1556)] are in the [columns]\""
          ]
        }
      ]
    }
  ],
  "metadata": {
    "colab": {
      "collapsed_sections": [],
      "name": "Copy of Untitled0.ipynb",
      "provenance": [],
      "authorship_tag": "ABX9TyP6i5SyfxkMfTP4kY2YfC8j",
      "include_colab_link": true
    },
    "kernelspec": {
      "display_name": "Python 3",
      "name": "python3"
    },
    "language_info": {
      "name": "python"
    }
  },
  "nbformat": 4,
  "nbformat_minor": 0
}