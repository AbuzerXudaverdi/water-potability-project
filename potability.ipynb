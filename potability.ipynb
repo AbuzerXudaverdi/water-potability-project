{
  "cells": [
    {
      "cell_type": "markdown",
      "metadata": {
        "id": "view-in-github",
        "colab_type": "text"
      },
      "source": [
        "<a href=\"https://colab.research.google.com/github/AbuzerXudaverdi/water-potability-project/blob/main/potability.ipynb\" target=\"_parent\"><img src=\"https://colab.research.google.com/assets/colab-badge.svg\" alt=\"Open In Colab\"/></a>"
      ]
    },
    {
      "cell_type": "markdown",
      "source": [
        "# **Importing Dataset**\n",
        "\n",
        "Dataset is imported from github repository and a dataframe is created."
      ],
      "metadata": {
        "id": "eekZTOlzDXLZ"
      }
    },
    {
      "cell_type": "code",
      "execution_count": 43,
      "metadata": {
        "id": "vBJeAaVEMgU6"
      },
      "outputs": [],
      "source": [
        "import pandas as pd\n",
        "import io\n",
        "url = 'https://raw.githubusercontent.com/AbuzerXudaverdi/water-potability-project/main/water_potability.csv'\n",
        "df = pd.read_csv(url)"
      ]
    },
    {
      "cell_type": "markdown",
      "source": [
        "**Importing tools**\n",
        "\n"
      ],
      "metadata": {
        "id": "OeJk4bDyC_oi"
      }
    },
    {
      "cell_type": "code",
      "execution_count": null,
      "metadata": {
        "id": "lXUQq17cKad3"
      },
      "outputs": [],
      "source": [
        "from sklearn.metrics import mean_squared_error\n",
        "from sklearn.neighbors import KNeighborsClassifier\n",
        "from sklearn.model_selection import KFold\n",
        "from sklearn.metrics import plot_confusion_matrix\n",
        "from sklearn.model_selection import KFold\n",
        "from sklearn.linear_model import LinearRegression\n",
        "from sklearn.model_selection import train_test_split\n",
        "import numpy as np"
      ]
    },
    {
      "cell_type": "markdown",
      "source": [
        "Here I printed first 5 rows of the dataframe to see what dataframe looks like"
      ],
      "metadata": {
        "id": "ULYN1l72E0YG"
      }
    },
    {
      "cell_type": "code",
      "source": [
        "print(df.head())"
      ],
      "metadata": {
        "colab": {
          "base_uri": "https://localhost:8080/"
        },
        "id": "h8z7I-8kFFAJ",
        "outputId": "7717071f-e956-464a-fe64-483a13f0ce79"
      },
      "execution_count": 44,
      "outputs": [
        {
          "output_type": "stream",
          "name": "stdout",
          "text": [
            "         ph    Hardness        Solids  Chloramines     Sulfate  Conductivity  \\\n",
            "0       NaN  204.890455  20791.318981     7.300212  368.516441    564.308654   \n",
            "1  3.716080  129.422921  18630.057858     6.635246         NaN    592.885359   \n",
            "2  8.099124  224.236259  19909.541732     9.275884         NaN    418.606213   \n",
            "3  8.316766  214.373394  22018.417441     8.059332  356.886136    363.266516   \n",
            "4  9.092223  181.101509  17978.986339     6.546600  310.135738    398.410813   \n",
            "\n",
            "   Organic_carbon  Trihalomethanes  Turbidity  Potability  \n",
            "0       10.379783        86.990970   2.963135           0  \n",
            "1       15.180013        56.329076   4.500656           0  \n",
            "2       16.868637        66.420093   3.055934           0  \n",
            "3       18.436524       100.341674   4.628771           0  \n",
            "4       11.558279        31.997993   4.075075           0  \n"
          ]
        }
      ]
    },
    {
      "cell_type": "code",
      "execution_count": 34,
      "metadata": {
        "colab": {
          "base_uri": "https://localhost:8080/"
        },
        "id": "IXnfkv-pM-cl",
        "outputId": "eb9c4934-111f-493f-be9c-371c25e624ba"
      },
      "outputs": [
        {
          "output_type": "stream",
          "name": "stdout",
          "text": [
            "Null values of 'Sulfate' column:         781\n",
            "Null values of 'Turbidity' column:       0\n",
            "Null values of 'Trihalomethanes' column: 162\n",
            "Null values of 'pH' column:              491\n",
            "Null values of 'Conductivity' column:    0\n",
            "Null values of 'Organic_carbon' column:  0\n",
            "Null values of 'Potability' column:      0\n",
            "Null values of 'Hardness' column:        0\n",
            "Null values of 'Solids' column:          0\n",
            "Null values of 'Chloramines' column:     0\n",
            "Ratio of number of Null values in Sulfate column to number of all values in that Column: 0.23840048840048841\n"
          ]
        }
      ],
      "source": [
        "cols = []\n",
        "for col in df.columns:\n",
        "  if col == 'Potability':\n",
        "    cols.append(col)\n",
        "\n",
        "print(\"Null values of 'Sulfate' column:        \", sum(pd.isnull(df['Sulfate'])))\n",
        "print(\"Null values of 'Turbidity' column:      \", sum(pd.isnull(df['Turbidity'])))\n",
        "print(\"Null values of 'Trihalomethanes' column:\", sum(pd.isnull(df['Trihalomethanes'])))\n",
        "print(\"Null values of 'pH' column:             \", sum(pd.isnull(df['ph'])))\n",
        "print(\"Null values of 'Conductivity' column:   \", sum(pd.isnull(df['Conductivity'])))\n",
        "print(\"Null values of 'Organic_carbon' column: \", sum(pd.isnull(df['Organic_carbon'])))\n",
        "print(\"Null values of 'Potability' column:     \", sum(pd.isnull(df['Potability'])))\n",
        "print(\"Null values of 'Hardness' column:       \", sum(pd.isnull(df['Hardness'])))\n",
        "print(\"Null values of 'Solids' column:         \", sum(pd.isnull(df['Solids'])))\n",
        "print(\"Null values of 'Chloramines' column:    \", sum(pd.isnull(df['Chloramines'])))\n",
        "\n",
        "x = sum(pd.isnull(df['Sulfate']))/len(df['Sulfate'])\n",
        "y = len(df['Sulfate'])\n",
        "print (\"Ratio of number of Null values in Sulfate column to number of all values in that Column:\", x)"
      ]
    },
    {
      "cell_type": "code",
      "source": [
        "factors = df[['Chloramines','Hardness','Potability']]\n",
        "import seaborn as sns\n",
        "sns.pairplot(factors, hue='Potability', height=3.5)"
      ],
      "metadata": {
        "id": "2UAjGt7rH5Vb"
      },
      "execution_count": null,
      "outputs": []
    },
    {
      "cell_type": "code",
      "source": [
        "#dropping null values in pH, Sulfate, and Trihalomethanes columns\n",
        "df2 = df.dropna(subset = ['ph','Sulfate', 'Trihalomethanes'])\n",
        "sulfate_max = np.max(df['Sulfate'])\n",
        "print(sulfate_max)\n",
        "plt.matshow(df.corr())\n",
        "plt.show()\n",
        "# best feature set is 'Sulfate','Turbidity','Trihalomethanes','ph', 'Conductivity','Chloramines'\n",
        "#X = df2[['Sulfate','Turbidity','Trihalomethanes','ph', 'Conductivity','Organic_carbon','Chloramines', 'Hardness']].copy()\n",
        "#X = df2[['Chloramines', 'Hardness']].copy()\n",
        "X = df2[['Sulfate','Turbidity','Trihalomethanes','ph', 'Conductivity','Organic_carbon','Chloramines', 'Hardness', 'Solids']].copy()\n",
        "#X = df2[[cols]]\n",
        "y = df2[['Potability']].copy()"
      ],
      "metadata": {
        "id": "KrY939Mibrg0",
        "colab": {
          "base_uri": "https://localhost:8080/",
          "height": 292
        },
        "outputId": "ea83cef6-cc32-425a-f0ce-cb094f742c0d"
      },
      "execution_count": 61,
      "outputs": [
        {
          "output_type": "stream",
          "name": "stdout",
          "text": [
            "481.0306423059972\n"
          ]
        },
        {
          "output_type": "display_data",
          "data": {
            "text/plain": [
              "<Figure size 288x288 with 1 Axes>"
            ],
            "image/png": "[encoded data removed]"
          },
          "metadata": {
            "needs_background": "light"
          }
        }
      ]
    },
    {
      "cell_type": "markdown",
      "source": [
        "X = df[['Chloramines','Solids','Turbidity']].copy()\n",
        "\n",
        "y = df['Potability'].copy()\n",
        "x_train, x_test, y_train, y_test = train_test_split(X,y, test_size = 0.2, random_state = 0)\n",
        "model = LinearRegression()\n",
        "model.fit(x_train,y_train)\n",
        "preds = model.predict(x_test)\n",
        "mse = mean_squared_error(y_test,preds)\n",
        "print(mse) ---> 0.23420358208983516, 0.23409812743606703\n"
      ],
      "metadata": {
        "id": "FvQL8sfvH3lF"
      }
    },
    {
      "cell_type": "code",
      "source": [
        "\n",
        "#best test size is probably 0.14 for this case\n",
        "x_train, x_test, y_train, y_test = train_test_split(X,y, test_size = 0.14, random_state = 0)\n",
        "model = KNeighborsClassifier(n_neighbors=50)\n",
        "model.fit(x_train,y_train.values.ravel())\n",
        "preds = model.predict(x_test)  # nump.ndarry\n",
        "print(preds.shape, y_test.shape)\n",
        "preds = preds.reshape(282,1)\n",
        "print(y_test.head())\n",
        "print(preds.shape, y_test.shape)\n",
        "#print(preds.head())\n",
        "x = np.array(preds)\n",
        "yy = np.array(y_test)\n",
        "#print(yy)\n",
        "#print(x.astype)\n",
        "np_y = y_test.to_numpy()\n",
        "#print(np_y)\n",
        "acc = np.sum(x==yy)/len(yy)\n",
        "print(acc)\n",
        "#acc = np.sum(preds==np_y)/len(np_y.values)\n",
        "##print(acc)"
      ],
      "metadata": {
        "colab": {
          "base_uri": "https://localhost:8080/"
        },
        "id": "dl48x049Frsr",
        "outputId": "9ea4c30e-8bf0-4b4d-b802-b05c70dafbbb"
      },
      "execution_count": 62,
      "outputs": [
        {
          "output_type": "stream",
          "name": "stdout",
          "text": [
            "(282,) (282, 1)\n",
            "      Potability\n",
            "367            1\n",
            "1985           1\n",
            "2962           0\n",
            "710            1\n",
            "1344           0\n",
            "(282, 1) (282, 1)\n",
            "0.6418439716312057\n"
          ]
        }
      ]
    },
    {
      "cell_type": "code",
      "source": [
        "\n",
        "x_training, x_testing, y_training, y_testing = train_test_split(X,y, test_size = 0.20, random_state = 0)\n",
        "kf = KFold(n_splits=10,shuffle=False)\n",
        "# List to store the n_neighbors value as you iterate through the range n_range\n",
        "neighbor_vals = []\n",
        "temp = []\n",
        "n_range = [int(5),int(50), int(100), int(300)]\n",
        "# List to store the mean accuracy for each n_neighbors value\n",
        "results = []\n",
        "# Iterate through the n_neighbors values and perform cross-validation\n",
        "# Calculate the mean validation fold accuracy for each across all validation folds\n",
        "for n in n_range:\n",
        "  neighbor_vals.append(n)\n",
        "  knn_model = KNeighborsClassifier(n_neighbors=n)\n",
        "  for train, val in kf.split(X=x_training,y=y_training):\n",
        "    X_fold_train, X_fold_val = x_training.iloc[train], x_training.iloc[val]\n",
        "    y_fold_train, y_fold_val = y_training.iloc[train], y_training.iloc[val]\n",
        "\n",
        "    knn_model.fit( X_fold_train, y_fold_train.values.ravel())\n",
        "    preds = knn_model.predict(X_fold_val)\n",
        "    xr = preds.shape[0]\n",
        "    #print(preds.shape, y_fold_val.shape)\n",
        "    preds = preds.reshape(xr,1)\n",
        "    #print(preds.shape)\n",
        "    acc = np.sum(preds==y_fold_val)/len(y_fold_val)\n",
        "    #acc = calc_accuracy(preds, y[validate])\n",
        "    temp.append(acc)\n",
        "  x= sum(temp)/len(temp)\n",
        "  temp.clear()\n",
        "  results.append(x)\n",
        "  i = np.argmax(results)\n",
        "nn = neighbor_vals[i]\n",
        "  #return nn\n",
        "print(nn)\n",
        "model = KNeighborsClassifier(n_neighbors=nn)\n",
        "model.fit(x_training, y_training)\n",
        "predic = model.predict(x_testing)\n",
        "predic = predic.reshape(predic.shape[0],1)\n",
        "accur = np.sum(predic==y_testing)/len(y_testing)\n",
        "print(accur)\n"
      ],
      "metadata": {
        "id": "TdcK6D9BbXVx",
        "outputId": "82ac4f88-2501-4898-af02-39153b249cff",
        "colab": {
          "base_uri": "https://localhost:8080/"
        }
      },
      "execution_count": 63,
      "outputs": [
        {
          "output_type": "stream",
          "name": "stdout",
          "text": [
            "300\n",
            "Potability    0.62531\n",
            "dtype: float64\n"
          ]
        },
        {
          "output_type": "stream",
          "name": "stderr",
          "text": [
            "/usr/local/lib/python3.7/dist-packages/sklearn/neighbors/_classification.py:198: DataConversionWarning: A column-vector y was passed when a 1d array was expected. Please change the shape of y to (n_samples,), for example using ravel().\n",
            "  return self._fit(X, y)\n"
          ]
        }
      ]
    },
    {
      "cell_type": "code",
      "source": [
        "from sklearn.metrics import plot_confusion_matrix\n",
        "import matplotlib.pyplot as plt\n",
        "print(y_testing.shape, predic.shape)\n",
        "#plot_confusion_matrix(y_testing).ravel()\n",
        "plt.show()\n",
        "from sklearn.metrics import confusion_matrix\n",
        "tn, fp, fn, tp = confusion_matrix(y_testing, predic).ravel()\n",
        "print(\"true negatives\", tn, \"true positives: \", tp, \"false negatives: \", fn, \"false postives: \", fp)\n"
      ],
      "metadata": {
        "colab": {
          "base_uri": "https://localhost:8080/"
        },
        "id": "43CUgIupAjYg",
        "outputId": "0a63db57-280b-4e1a-e1ad-07ae57cff49a"
      },
      "execution_count": 64,
      "outputs": [
        {
          "output_type": "stream",
          "name": "stdout",
          "text": [
            "(403, 1) (403, 1)\n",
            "true negatives 252 true positives:  0 false negatives:  151 false postives:  0\n"
          ]
        }
      ]
    },
    {
      "cell_type": "code",
      "source": [
        "from sklearn.neural_network import MLPClassifier\n",
        "x_train, x_test, y_train, y_test = train_test_split(X, y, random_state = 0, test_size = 0.14)\n",
        "model = MLPClassifier(hidden_layer_sizes=(100,50),activation='relu', solver='sgd',learning_rate_init=0.01,max_iter=1000)\n",
        "model.fit(x_train,y_train.values.ravel())\n",
        "preds = model.predict(x_test)\n",
        "print(preds.shape, y_test.shape)\n",
        "ps = preds.shape[0]\n",
        "print(ps)\n",
        "preds = preds.reshape(ps,1)\n",
        "accuracy = np.sum(preds==y_test)/len(y_test)\n",
        "negs = np.sum(y_test==0)\n",
        "pos = np.sum(y_test==1)\n",
        "print(\"number of actual zeros:\", negs)\n",
        "print(\"number of actual ones:\", pos)\n",
        "tn, fp, fn, tp = confusion_matrix(y_test, preds).ravel()\n",
        "print(\"true negatives\", tn, \"true positives: \", tp, \"false negatives: \", fn, \"false postives: \", fp)\n",
        "print(accuracy)"
      ],
      "metadata": {
        "colab": {
          "base_uri": "https://localhost:8080/"
        },
        "id": "R0zMtACYLAur",
        "outputId": "40aa33f4-fa2f-432d-adc2-ace019b70d6b"
      },
      "execution_count": 57,
      "outputs": [
        {
          "output_type": "stream",
          "name": "stdout",
          "text": [
            "(282,) (282, 1)\n",
            "282\n",
            "number of actual zeros: Potability    181\n",
            "dtype: int64\n",
            "number of actual ones: Potability    101\n",
            "dtype: int64\n",
            "true negatives 181 true positives:  0 false negatives:  101 false postives:  0\n",
            "Potability    0.641844\n",
            "dtype: float64\n"
          ]
        }
      ]
    }
  ],
  "metadata": {
    "colab": {
      "collapsed_sections": [],
      "name": "Copy of Untitled0.ipynb",
      "provenance": [],
      "authorship_tag": "ABX9TyNjj+xCjfzyjM8Z5xfgax1s",
      "include_colab_link": true
    },
    "kernelspec": {
      "display_name": "Python 3",
      "name": "python3"
    },
    "language_info": {
      "name": "python"
    }
  },
  "nbformat": 4,
  "nbformat_minor": 0
}