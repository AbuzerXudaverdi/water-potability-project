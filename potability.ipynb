{
  "cells": [
    {
      "cell_type": "markdown",
      "metadata": {
        "id": "view-in-github",
        "colab_type": "text"
      },
      "source": [
        "<a href=\"https://colab.research.google.com/github/AbuzerXudaverdi/water-potability-project/blob/main/potability.ipynb\" target=\"_parent\"><img src=\"https://colab.research.google.com/assets/colab-badge.svg\" alt=\"Open In Colab\"/></a>"
      ]
    },
    {
      "cell_type": "code",
      "execution_count": 91,
      "metadata": {
        "id": "vBJeAaVEMgU6"
      },
      "outputs": [],
      "source": [
        "#from google.colab import files\n",
        "#uploaded = files.upload()\n",
        "import pandas as pd\n",
        "from sklearn.linear_model import LinearRegression\n",
        "from sklearn.model_selection import train_test_split\n",
        "import io\n",
        "url = 'https://raw.githubusercontent.com/AbuzerXudaverdi/water-potability-project/main/water_potability.csv'\n",
        "df = pd.read_csv(url)"
      ]
    },
    {
      "cell_type": "code",
      "execution_count": 92,
      "metadata": {
        "id": "lXUQq17cKad3",
        "colab": {
          "base_uri": "https://localhost:8080/"
        },
        "outputId": "4f0c291a-349c-43ef-a32d-24fd9300c416"
      },
      "outputs": [
        {
          "output_type": "stream",
          "name": "stdout",
          "text": [
            "<bound method NDFrame.head of             ph    Hardness        Solids  Chloramines     Sulfate  \\\n",
            "0          NaN  204.890455  20791.318981     7.300212  368.516441   \n",
            "1     3.716080  129.422921  18630.057858     6.635246         NaN   \n",
            "2     8.099124  224.236259  19909.541732     9.275884         NaN   \n",
            "3     8.316766  214.373394  22018.417441     8.059332  356.886136   \n",
            "4     9.092223  181.101509  17978.986339     6.546600  310.135738   \n",
            "...        ...         ...           ...          ...         ...   \n",
            "3271  4.668102  193.681735  47580.991603     7.166639  359.948574   \n",
            "3272  7.808856  193.553212  17329.802160     8.061362         NaN   \n",
            "3273  9.419510  175.762646  33155.578218     7.350233         NaN   \n",
            "3274  5.126763  230.603758  11983.869376     6.303357         NaN   \n",
            "3275  7.874671  195.102299  17404.177061     7.509306         NaN   \n",
            "\n",
            "      Conductivity  Organic_carbon  Trihalomethanes  Turbidity  Potability  \n",
            "0       564.308654       10.379783        86.990970   2.963135           0  \n",
            "1       592.885359       15.180013        56.329076   4.500656           0  \n",
            "2       418.606213       16.868637        66.420093   3.055934           0  \n",
            "3       363.266516       18.436524       100.341674   4.628771           0  \n",
            "4       398.410813       11.558279        31.997993   4.075075           0  \n",
            "...            ...             ...              ...        ...         ...  \n",
            "3271    526.424171       13.894419        66.687695   4.435821           1  \n",
            "3272    392.449580       19.903225              NaN   2.798243           1  \n",
            "3273    432.044783       11.039070        69.845400   3.298875           1  \n",
            "3274    402.883113       11.168946        77.488213   4.708658           1  \n",
            "3275    327.459760       16.140368        78.698446   2.309149           1  \n",
            "\n",
            "[3276 rows x 10 columns]>\n"
          ]
        }
      ],
      "source": [
        "#import pandas as pd\n",
        "#import io\n",
        "#df = pd.read_csv(io.BytesIO(uploaded['water_potability.csv']))\n",
        "from sklearn.metrics import mean_squared_error\n",
        "from sklearn.neighbors import KNeighborsClassifier\n",
        "from sklearn.model_selection import KFold\n",
        "from sklearn.metrics import plot_confusion_matrix\n",
        "import numpy as np\n",
        "print(df.head)"
      ]
    },
    {
      "cell_type": "code",
      "execution_count": 93,
      "metadata": {
        "colab": {
          "base_uri": "https://localhost:8080/"
        },
        "id": "IXnfkv-pM-cl",
        "outputId": "4a01bbe6-2aa7-4c5d-f01b-0c7ac13480e6"
      },
      "outputs": [
        {
          "output_type": "stream",
          "name": "stdout",
          "text": [
            "Null values of 'Sulfate' column: 781\n",
            "Null values of 'Turbidity' column: 0\n",
            "Null values of 'Trihalomethanes' column: 162\n",
            "Null values of 'pH' column: 491\n",
            "Null values of 'Conductivity' column: 0\n",
            "Null values of 'Organic_carbon' column: 0\n",
            "Null values of 'Potability' column: 0\n",
            "Null values of 'Hardness' column: 0\n",
            "Null values of 'Solids' column: 0\n",
            "Null values of 'Chloramines' column: 0\n",
            "0.23840048840048841 3276\n"
          ]
        }
      ],
      "source": [
        "#print(mat.keys())\n",
        "#print(len(mat['features'][1]))\n",
        "#print(mat['features'])\n",
        "cols = []\n",
        "for col in df.columns:\n",
        "  if col == 'Potability':\n",
        "    cols.append(col)\n",
        "\n",
        "print(\"Null values of 'Sulfate' column:\",sum(pd.isnull(df['Sulfate'])))\n",
        "print(\"Null values of 'Turbidity' column:\", sum(pd.isnull(df['Turbidity'])))\n",
        "print(\"Null values of 'Trihalomethanes' column:\", sum(pd.isnull(df['Trihalomethanes'])))\n",
        "print(\"Null values of 'pH' column:\", sum(pd.isnull(df['ph'])))\n",
        "print(\"Null values of 'Conductivity' column:\", sum(pd.isnull(df['Conductivity'])))\n",
        "print(\"Null values of 'Organic_carbon' column:\", sum(pd.isnull(df['Organic_carbon'])))\n",
        "print(\"Null values of 'Potability' column:\", sum(pd.isnull(df['Potability'])))\n",
        "print(\"Null values of 'Hardness' column:\", sum(pd.isnull(df['Hardness'])))\n",
        "print(\"Null values of 'Solids' column:\", sum(pd.isnull(df['Solids'])))\n",
        "print(\"Null values of 'Chloramines' column:\", sum(pd.isnull(df['Chloramines'])))\n",
        "x = sum(pd.isnull(df['Sulfate']))/len(df['Sulfate'])\n",
        "y = len(df['Sulfate'])\n",
        "print (x, y)"
      ]
    },
    {
      "cell_type": "markdown",
      "source": [
        "X = df[['Chloramines','Solids','Turbidity']].copy()\n",
        "\n",
        "y = df['Potability'].copy()\n",
        "x_train, x_test, y_train, y_test = train_test_split(X,y, test_size = 0.2, random_state = 0)\n",
        "model = LinearRegression()\n",
        "model.fit(x_train,y_train)\n",
        "preds = model.predict(x_test)\n",
        "mse = mean_squared_error(y_test,preds)\n",
        "print(mse) ---> 0.23420358208983516, 0.23409812743606703\n"
      ],
      "metadata": {
        "id": "FvQL8sfvH3lF"
      }
    },
    {
      "cell_type": "code",
      "source": [
        "df2 = df.dropna(subset = ['ph','Sulfate', 'Trihalomethanes'])\n",
        "X = df2[['Sulfate','Turbidity','Trihalomethanes', 'Conductivity', 'Organic_carbon', 'Hardness', 'Solids','Chloramines']].copy()\n",
        "#X = df2[[cols]]\n",
        "y = df2[['Potability']].copy()\n",
        "x_train, x_test, y_train, y_test = train_test_split(X,y, test_size = 0.2, random_state = 0)\n",
        "model = KNeighborsClassifier(n_neighbors=50)\n",
        "model.fit(x_train,y_train.values.ravel())\n",
        "preds = model.predict(x_test)  # nump.ndarry\n",
        "print(preds.shape, y_test.shape)\n",
        "preds = preds.reshape(403,1)\n",
        "print(y_test.head())\n",
        "print(preds.shape, y_test.shape)\n",
        "#print(preds.head())\n",
        "x = np.array(preds)\n",
        "yy = np.array(y_test)\n",
        "#print(yy)\n",
        "#print(x.astype)\n",
        "np_y = y_test.to_numpy()\n",
        "#print(np_y)\n",
        "acc = np.sum(x==yy)#/len(yy)\n",
        "print(acc)\n",
        "#acc = np.sum(preds==np_y)/len(np_y.values)\n",
        "##print(acc)"
      ],
      "metadata": {
        "colab": {
          "base_uri": "https://localhost:8080/"
        },
        "id": "dl48x049Frsr",
        "outputId": "725282d3-421b-4910-e488-05bd16a53a71"
      },
      "execution_count": 94,
      "outputs": [
        {
          "output_type": "stream",
          "name": "stdout",
          "text": [
            "(403,) (403, 1)\n",
            "      Potability\n",
            "367            1\n",
            "1985           1\n",
            "2962           0\n",
            "710            1\n",
            "1344           0\n",
            "(403, 1) (403, 1)\n",
            "244\n"
          ]
        }
      ]
    }
  ],
  "metadata": {
    "colab": {
      "collapsed_sections": [],
      "name": "Untitled0.ipynb",
      "provenance": [],
      "authorship_tag": "ABX9TyNChIn7uGip36O5WL05Vg7S",
      "include_colab_link": true
    },
    "kernelspec": {
      "display_name": "Python 3",
      "name": "python3"
    },
    "language_info": {
      "name": "python"
    }
  },
  "nbformat": 4,
  "nbformat_minor": 0
}